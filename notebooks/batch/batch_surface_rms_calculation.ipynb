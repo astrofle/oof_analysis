{
 "cells": [
  {
   "cell_type": "code",
   "execution_count": 1,
   "id": "9800f1e1",
   "metadata": {},
   "outputs": [],
   "source": [
    "%load_ext autoreload\n",
    "%autoreload 2"
   ]
  },
  {
   "cell_type": "code",
   "execution_count": 2,
   "id": "174a5457",
   "metadata": {},
   "outputs": [],
   "source": [
    "import sys\n",
    "sys.path.append(\"/home/sandboxes/psalas/PTCS/AutoOOF/oof_au\")\n",
    "\n",
    "import oof_analysis"
   ]
  },
  {
   "cell_type": "code",
   "execution_count": 2,
   "id": "4a4afeef",
   "metadata": {},
   "outputs": [
    {
     "name": "stdout",
     "output_type": "stream",
     "text": [
      "{8: [14.148, {'rms': <Quantity 261.81977285 um>, 'tau0': array([0.0872])}], 9: [13.653, {'rms': <Quantity 267.00223255 um>, 'tau0': array([0.0871])}], 10: [15.388, {'rms': <Quantity 249.16745538 um>, 'tau0': array([0.0871])}], 11: [15.753, {'rms': <Quantity 245.52072685 um>, 'tau0': array([0.0871])}]}\n"
     ]
    }
   ],
   "source": [
    "# User defined variables.\n",
    "\n",
    "path = \"/home/gbtdata\" # root path to the data. If the data has been archived, this would be different.\n",
    "project = \"AGBT22A_044\"\n",
    "session = \"01\"\n",
    "\n",
    "oofa = oof_analysis.OOFAnalysis(path, project, session)\n",
    "\n",
    "scan_dict = {8:  14.148,\n",
    "             9:  13.653,\n",
    "             10: 15.388,\n",
    "             11: 15.753}\n",
    "\n",
    "for scan,ta in scan_dict.items():\n",
    "    rms = oofa.compute_surface_rms(scan, ta)\n",
    "    scan_dict[scan] = [ta, rms]\n",
    "    \n",
    "print(scan_dict)"
   ]
  },
  {
   "cell_type": "code",
   "execution_count": 3,
   "id": "9e8b7f1e",
   "metadata": {},
   "outputs": [
    {
     "name": "stdout",
     "output_type": "stream",
     "text": [
      "Observed 0319+4130 at an elevation of 58.2681859382048 and frequency 9.317e+10 Hz with RcvrArray75_115\n",
      "ALMA flux for the source:\n",
      "   FluxDensity    \n",
      "      Jansky      \n",
      "------------------\n",
      "15.307128579876961\n",
      "Using a zenith opacity of [0.1219] to conver from Ta to Ta'=11.3 K\n",
      "Observed 0319+4130 at an elevation of 58.3887398383881 and frequency 9.317e+10 Hz with RcvrArray75_115\n",
      "ALMA flux for the source:\n",
      "   FluxDensity    \n",
      "      Jansky      \n",
      "------------------\n",
      "15.307128579876961\n",
      "Using a zenith opacity of [0.122] to conver from Ta to Ta'=15.42 K\n",
      "Observed 0319+4130 at an elevation of 58.5124199476894 and frequency 9.317e+10 Hz with RcvrArray75_115\n",
      "ALMA flux for the source:\n",
      "   FluxDensity    \n",
      "      Jansky      \n",
      "------------------\n",
      "15.307128579876961\n",
      "Using a zenith opacity of [0.122] to conver from Ta to Ta'=13.198 K\n",
      "Observed 0319+4130 at an elevation of 58.6330299197444 and frequency 9.317e+10 Hz with RcvrArray75_115\n",
      "ALMA flux for the source:\n",
      "   FluxDensity    \n",
      "      Jansky      \n",
      "------------------\n",
      "15.307128579876961\n",
      "Using a zenith opacity of [0.1221] to conver from Ta to Ta'=13.484 K\n",
      "{8: [11.3, <Quantity 256.71433414 um>], 9: [15.42, <Quantity 213.35571523 um>], 10: [13.198, <Quantity 236.05617747 um>], 11: [13.484, <Quantity 233.05989011 um>]}\n"
     ]
    }
   ],
   "source": [
    "# User defined variables.\n",
    "\n",
    "path = \"/home/archive/science-data/18B/\" # root path to the data. If the data has been archived, this would be different.\n",
    "project = \"AGBT18B_288\"\n",
    "session = \"01\"\n",
    "\n",
    "oofa = oof_analysis.OOFAnalysis(path, project, session)\n",
    "\n",
    "scan_dict = {8:  11.3,\n",
    "             9:  15.420,\n",
    "             10: 13.198,\n",
    "             11: 13.484}\n",
    "\n",
    "for scan,ta in scan_dict.items():\n",
    "    rms = oofa.compute_surface_rms(scan, ta, verbose=True)\n",
    "    scan_dict[scan] = [ta, rms]\n",
    "    \n",
    "print(scan_dict)"
   ]
  },
  {
   "cell_type": "code",
   "execution_count": 5,
   "id": "892bbedf",
   "metadata": {},
   "outputs": [
    {
     "name": "stdout",
     "output_type": "stream",
     "text": [
      "Observed URANUS at an elevation of 53.8469105678297 and frequency 9.317e+10 Hz with RcvrArray75_115\n",
      "ALMA flux for the source:\n",
      "FluxDensity\n",
      "   Jansky  \n",
      "-----------\n",
      "         --\n",
      "Using a zenith opacity of [0.1024] to conver from Ta to Ta'=2.274 K\n"
     ]
    },
    {
     "name": "stderr",
     "output_type": "stream",
     "text": [
      "/home/sandboxes/psalas/PTCS/AutoOOF/oof_au/ruze.py:20: RuntimeWarning: divide by zero encountered in log\n",
      "  return np.sqrt(-np.log(eta_a/eta_0))/(4*np.pi)*lmbd\n"
     ]
    },
    {
     "ename": "AttributeError",
     "evalue": "'MaskedConstant' object has no attribute 'to'",
     "output_type": "error",
     "traceback": [
      "\u001b[0;31m---------------------------------------------------------------------------\u001b[0m",
      "\u001b[0;31mAttributeError\u001b[0m                            Traceback (most recent call last)",
      "\u001b[0;32m/tmp/ipykernel_19106/438510782.py\u001b[0m in \u001b[0;36m<module>\u001b[0;34m\u001b[0m\n\u001b[1;32m     13\u001b[0m \u001b[0;34m\u001b[0m\u001b[0m\n\u001b[1;32m     14\u001b[0m \u001b[0;32mfor\u001b[0m \u001b[0mscan\u001b[0m\u001b[0;34m,\u001b[0m\u001b[0mta\u001b[0m \u001b[0;32min\u001b[0m \u001b[0mscan_dict\u001b[0m\u001b[0;34m.\u001b[0m\u001b[0mitems\u001b[0m\u001b[0;34m(\u001b[0m\u001b[0;34m)\u001b[0m\u001b[0;34m:\u001b[0m\u001b[0;34m\u001b[0m\u001b[0;34m\u001b[0m\u001b[0m\n\u001b[0;32m---> 15\u001b[0;31m     \u001b[0mrms\u001b[0m \u001b[0;34m=\u001b[0m \u001b[0moofa\u001b[0m\u001b[0;34m.\u001b[0m\u001b[0mcompute_surface_rms\u001b[0m\u001b[0;34m(\u001b[0m\u001b[0mscan\u001b[0m\u001b[0;34m,\u001b[0m \u001b[0mta\u001b[0m\u001b[0;34m,\u001b[0m \u001b[0mverbose\u001b[0m\u001b[0;34m=\u001b[0m\u001b[0;32mTrue\u001b[0m\u001b[0;34m)\u001b[0m\u001b[0;34m\u001b[0m\u001b[0;34m\u001b[0m\u001b[0m\n\u001b[0m\u001b[1;32m     16\u001b[0m     \u001b[0mscan_dict\u001b[0m\u001b[0;34m[\u001b[0m\u001b[0mscan\u001b[0m\u001b[0;34m]\u001b[0m \u001b[0;34m=\u001b[0m \u001b[0;34m[\u001b[0m\u001b[0mta\u001b[0m\u001b[0;34m,\u001b[0m \u001b[0mrms\u001b[0m\u001b[0;34m]\u001b[0m\u001b[0;34m\u001b[0m\u001b[0;34m\u001b[0m\u001b[0m\n\u001b[1;32m     17\u001b[0m \u001b[0;34m\u001b[0m\u001b[0m\n",
      "\u001b[0;32m/home/sandboxes/psalas/PTCS/AutoOOF/oof_au/oof_analysis.py\u001b[0m in \u001b[0;36mcompute_surface_rms\u001b[0;34m(self, scan, ta, verbose)\u001b[0m\n\u001b[1;32m     79\u001b[0m \u001b[0;34m\u001b[0m\u001b[0m\n\u001b[1;32m     80\u001b[0m \u001b[0;34m\u001b[0m\u001b[0m\n\u001b[0;32m---> 81\u001b[0;31m         \u001b[0;32mreturn\u001b[0m \u001b[0msurf_rms\u001b[0m\u001b[0;34m.\u001b[0m\u001b[0mto\u001b[0m\u001b[0;34m(\u001b[0m\u001b[0;34m\"um\"\u001b[0m\u001b[0;34m)\u001b[0m\u001b[0;34m\u001b[0m\u001b[0;34m\u001b[0m\u001b[0m\n\u001b[0m\u001b[1;32m     82\u001b[0m \u001b[0;34m\u001b[0m\u001b[0m\n",
      "\u001b[0;31mAttributeError\u001b[0m: 'MaskedConstant' object has no attribute 'to'"
     ]
    }
   ],
   "source": [
    "# User defined variables.\n",
    "\n",
    "path = \"/home/archive/science-data/18B/\" # root path to the data. If the data has been archived, this would be different.\n",
    "project = \"AGBT18B_288\"\n",
    "session = \"02\"\n",
    "\n",
    "oofa = oof_analysis.OOFAnalysis(path, project, session)\n",
    "\n",
    "scan_dict = {13: 2.274,\n",
    "             14: 2.738,\n",
    "             15: 2.570,\n",
    "             16: 2.315}\n",
    "\n",
    "for scan,ta in scan_dict.items():\n",
    "    rms = oofa.compute_surface_rms(scan, ta, verbose=True)\n",
    "    scan_dict[scan] = [ta, rms]\n",
    "    \n",
    "print(scan_dict)"
   ]
  },
  {
   "cell_type": "code",
   "execution_count": 6,
   "id": "c6855b7b",
   "metadata": {},
   "outputs": [
    {
     "name": "stdout",
     "output_type": "stream",
     "text": [
      "Observed 0319+4130 at an elevation of 62.8892629279948 and frequency 9.317e+10 Hz with RcvrArray75_115\n",
      "ALMA flux for the source:\n",
      "   FluxDensity   \n",
      "      Jansky     \n",
      "-----------------\n",
      "15.34175220892956\n",
      "Using a zenith opacity of [0.1133] to conver from Ta to Ta'=4.899 K\n",
      "Observed 0319+4130 at an elevation of 62.7679255532147 and frequency 9.317e+10 Hz with RcvrArray75_115\n",
      "ALMA flux for the source:\n",
      "   FluxDensity   \n",
      "      Jansky     \n",
      "-----------------\n",
      "15.34175220892956\n",
      "Using a zenith opacity of [0.1134] to conver from Ta to Ta'=5.235 K\n",
      "Observed 0319+4130 at an elevation of 62.6403838125899 and frequency 9.317e+10 Hz with RcvrArray75_115\n",
      "ALMA flux for the source:\n",
      "   FluxDensity   \n",
      "      Jansky     \n",
      "-----------------\n",
      "15.34175220892956\n",
      "Using a zenith opacity of [0.1134] to conver from Ta to Ta'=5.086 K\n",
      "Observed 0319+4130 at an elevation of 62.5190817317649 and frequency 9.317e+10 Hz with RcvrArray75_115\n",
      "ALMA flux for the source:\n",
      "   FluxDensity   \n",
      "      Jansky     \n",
      "-----------------\n",
      "15.34175220892956\n",
      "Using a zenith opacity of [0.1134] to conver from Ta to Ta'=4.672 K\n",
      "{96: [4.899, <Quantity 347.63116292 um>], 97: [5.235, <Quantity 341.31825084 um>], 98: [5.086, <Quantity 344.08042391 um>], 99: [4.672, <Quantity 352.07678631 um>]}\n"
     ]
    }
   ],
   "source": [
    "# User defined variables.\n",
    "\n",
    "path = \"/home/archive/science-data/18B/\" # root path to the data. If the data has been archived, this would be different.\n",
    "project = \"AGBT18B_288\"\n",
    "session = \"02\"\n",
    "\n",
    "oofa = oof_analysis.OOFAnalysis(path, project, session)\n",
    "\n",
    "scan_dict = {96: 4.899,\n",
    "             97: 5.235,\n",
    "             98: 5.086,\n",
    "             99: 4.672}\n",
    "\n",
    "for scan,ta in scan_dict.items():\n",
    "    rms = oofa.compute_surface_rms(scan, ta, verbose=True)\n",
    "    scan_dict[scan] = [ta, rms]\n",
    "    \n",
    "print(scan_dict)"
   ]
  },
  {
   "cell_type": "code",
   "execution_count": 7,
   "id": "950d73a9",
   "metadata": {},
   "outputs": [
    {
     "name": "stdout",
     "output_type": "stream",
     "text": [
      "Observed 0319+4130 at an elevation of 42.5176498756793 and frequency 9.0979e+10 Hz with RcvrArray75_115\n",
      "ALMA flux for the source:\n",
      "   FluxDensity    \n",
      "      Jansky      \n",
      "------------------\n",
      "16.873994083300587\n",
      "Using a zenith opacity of [0.1183] to conver from Ta to Ta'=13.933 K\n",
      "Observed 0319+4130 at an elevation of 42.3961214583373 and frequency 9.0979e+10 Hz with RcvrArray75_115\n",
      "ALMA flux for the source:\n",
      "   FluxDensity    \n",
      "      Jansky      \n",
      "------------------\n",
      "16.873994083300587\n",
      "Using a zenith opacity of [0.1185] to conver from Ta to Ta'=15.909 K\n",
      "Observed 0319+4130 at an elevation of 42.2746424702963 and frequency 9.0979e+10 Hz with RcvrArray75_115\n",
      "ALMA flux for the source:\n",
      "   FluxDensity    \n",
      "      Jansky      \n",
      "------------------\n",
      "16.873994083300587\n",
      "Using a zenith opacity of [0.1188] to conver from Ta to Ta'=15.382 K\n",
      "Observed 0319+4130 at an elevation of 42.159139306036 and frequency 9.0979e+10 Hz with RcvrArray75_115\n",
      "ALMA flux for the source:\n",
      "   FluxDensity    \n",
      "      Jansky      \n",
      "------------------\n",
      "16.873994083300587\n",
      "Using a zenith opacity of [0.1188] to conver from Ta to Ta'=17.017 K\n",
      "CPU times: user 262 ms, sys: 63.8 ms, total: 326 ms\n",
      "Wall time: 3.05 s\n"
     ]
    },
    {
     "data": {
      "text/plain": [
       "{8: [13.933, <Quantity 247.81707288 um>],\n",
       " 9: [15.909, <Quantity 228.67868929 um>],\n",
       " 10: [15.382, <Quantity 233.68842321 um>],\n",
       " 11: [17.017, <Quantity 218.32187757 um>]}"
      ]
     },
     "execution_count": 7,
     "metadata": {},
     "output_type": "execute_result"
    }
   ],
   "source": [
    "%%time\n",
    "\n",
    "path = \"/home/gbtdata/\"\n",
    "project = \"AGBT21B_228\"\n",
    "session = \"01\"\n",
    "\n",
    "oofa = oof_analysis.OOFAnalysis(path, project, session)\n",
    "\n",
    "scan_dict = {8:  13.933,\n",
    "             9:  15.909,\n",
    "             10: 15.382,\n",
    "             11: 17.017}\n",
    "\n",
    "for scan,ta in scan_dict.items():\n",
    "    rms = oofa.compute_surface_rms(scan, ta, verbose=True)\n",
    "    scan_dict[scan] = [ta, rms]\n",
    "    \n",
    "scan_dict"
   ]
  },
  {
   "cell_type": "code",
   "execution_count": 8,
   "id": "61ab74fe",
   "metadata": {},
   "outputs": [
    {
     "name": "stdout",
     "output_type": "stream",
     "text": [
      "Observed 0319+4130 at an elevation of 48.4551605974413 and frequency 9.0979e+10 Hz with RcvrArray75_115\n",
      "ALMA flux for the source:\n",
      "   FluxDensity   \n",
      "      Jansky     \n",
      "-----------------\n",
      "17.03865909652779\n",
      "Using a zenith opacity of [0.069] to conver from Ta to Ta'=9.704 K\n",
      "Observed 0319+4130 at an elevation of 48.573066162415 and frequency 9.0979e+10 Hz with RcvrArray75_115\n",
      "ALMA flux for the source:\n",
      "   FluxDensity   \n",
      "      Jansky     \n",
      "-----------------\n",
      "17.03865909652779\n",
      "Using a zenith opacity of [0.069] to conver from Ta to Ta'=13.969 K\n",
      "Observed 0319+4130 at an elevation of 48.6940404234368 and frequency 9.0979e+10 Hz with RcvrArray75_115\n",
      "ALMA flux for the source:\n",
      "   FluxDensity   \n",
      "      Jansky     \n",
      "-----------------\n",
      "17.03865909652779\n",
      "Using a zenith opacity of [0.069] to conver from Ta to Ta'=14.438 K\n",
      "Observed 0319+4130 at an elevation of 48.8120223229954 and frequency 9.0979e+10 Hz with RcvrArray75_115\n",
      "ALMA flux for the source:\n",
      "   FluxDensity   \n",
      "      Jansky     \n",
      "-----------------\n",
      "17.03865909652779\n",
      "Using a zenith opacity of [0.0691] to conver from Ta to Ta'=16.443 K\n",
      "CPU times: user 245 ms, sys: 51.8 ms, total: 297 ms\n",
      "Wall time: 2.33 s\n"
     ]
    },
    {
     "data": {
      "text/plain": [
       "{14: [9.704, <Quantity 294.87836619 um>],\n",
       " 15: [13.969, <Quantity 248.80437142 um>],\n",
       " 16: [14.438, <Quantity 244.19855318 um>],\n",
       " 17: [16.443, <Quantity 225.14788465 um>]}"
      ]
     },
     "execution_count": 8,
     "metadata": {},
     "output_type": "execute_result"
    }
   ],
   "source": [
    "%%time\n",
    "\n",
    "path = \"/home/gbtdata/\"\n",
    "project = \"AGBT21B_228\"\n",
    "session = \"02\"\n",
    "\n",
    "oofa = oof_analysis.OOFAnalysis(path, project, session)\n",
    "\n",
    "scan_dict = {14: 9.704,\n",
    "             15: 13.969,\n",
    "             16: 14.438,\n",
    "             17: 16.443}\n",
    "\n",
    "for scan,ta in scan_dict.items():\n",
    "    rms = oofa.compute_surface_rms(scan, ta, verbose=True)\n",
    "    scan_dict[scan] = [ta, rms]\n",
    "    \n",
    "scan_dict"
   ]
  },
  {
   "cell_type": "code",
   "execution_count": 9,
   "id": "8841588f",
   "metadata": {},
   "outputs": [
    {
     "name": "stdout",
     "output_type": "stream",
     "text": [
      "Observed 0319+4130 at an elevation of 47.6188974142407 and frequency 9.0979e+10 Hz with RcvrArray75_115\n",
      "ALMA flux for the source:\n",
      "   FluxDensity   \n",
      "      Jansky     \n",
      "-----------------\n",
      "17.03865909652779\n",
      "Using a zenith opacity of [0.0694] to conver from Ta to Ta'=10.639 K\n",
      "Observed 0319+4130 at an elevation of 47.7365130070333 and frequency 9.0979e+10 Hz with RcvrArray75_115\n",
      "ALMA flux for the source:\n",
      "   FluxDensity   \n",
      "      Jansky     \n",
      "-----------------\n",
      "17.03865909652779\n",
      "Using a zenith opacity of [0.0693] to conver from Ta to Ta'=14.339 K\n",
      "Observed 0319+4130 at an elevation of 47.8571882972838 and frequency 9.0979e+10 Hz with RcvrArray75_115\n",
      "ALMA flux for the source:\n",
      "   FluxDensity   \n",
      "      Jansky     \n",
      "-----------------\n",
      "17.03865909652779\n",
      "Using a zenith opacity of [0.0693] to conver from Ta to Ta'=12.564 K\n",
      "Observed 0319+4130 at an elevation of 47.9748871891002 and frequency 9.0979e+10 Hz with RcvrArray75_115\n",
      "ALMA flux for the source:\n",
      "   FluxDensity   \n",
      "      Jansky     \n",
      "-----------------\n",
      "17.03865909652779\n",
      "Using a zenith opacity of [0.0692] to conver from Ta to Ta'=16.176 K\n",
      "CPU times: user 287 ms, sys: 59.2 ms, total: 346 ms\n",
      "Wall time: 1.64 s\n"
     ]
    },
    {
     "data": {
      "text/plain": [
       "{8: [10.639, <Quantity 283.95084594 um>],\n",
       " 9: [14.339, <Quantity 245.16533578 um>],\n",
       " 10: [12.564, <Quantity 263.04482153 um>],\n",
       " 11: [16.176, <Quantity 227.63405327 um>]}"
      ]
     },
     "execution_count": 9,
     "metadata": {},
     "output_type": "execute_result"
    }
   ],
   "source": [
    "%%time\n",
    "\n",
    "path = \"/home/gbtdata/\"\n",
    "project = \"AGBT21B_228\"\n",
    "session = \"02\"\n",
    "\n",
    "oofa = oof_analysis.OOFAnalysis(path, project, session)\n",
    "\n",
    "scan_dict = {8: 10.639,\n",
    "             9: 14.339,\n",
    "             10: 12.564,\n",
    "             11: 16.176}\n",
    "\n",
    "for scan,ta in scan_dict.items():\n",
    "    rms = oofa.compute_surface_rms(scan, ta, verbose=True)\n",
    "    scan_dict[scan] = [ta, rms]\n",
    "    \n",
    "scan_dict"
   ]
  },
  {
   "cell_type": "code",
   "execution_count": 10,
   "id": "a88f513a",
   "metadata": {},
   "outputs": [
    {
     "name": "stdout",
     "output_type": "stream",
     "text": [
      "Observed 0319+4130 at an elevation of 54.8555012993898 and frequency 1.12359e+11 Hz with RcvrArray75_115\n",
      "ALMA flux for the source:\n",
      "   FluxDensity    \n",
      "      Jansky      \n",
      "------------------\n",
      "14.829753163150489\n",
      "Using a zenith opacity of [0.2373] to conver from Ta to Ta'=2.81 K\n",
      "Observed 0319+4130 at an elevation of 54.9752778629095 and frequency 1.12359e+11 Hz with RcvrArray75_115\n",
      "ALMA flux for the source:\n",
      "   FluxDensity    \n",
      "      Jansky      \n",
      "------------------\n",
      "14.829753163150489\n",
      "Using a zenith opacity of [0.2371] to conver from Ta to Ta'=5.487 K\n",
      "Observed 0319+4130 at an elevation of 55.0981429835755 and frequency 1.12359e+11 Hz with RcvrArray75_115\n",
      "ALMA flux for the source:\n",
      "   FluxDensity    \n",
      "      Jansky      \n",
      "------------------\n",
      "14.829753163150489\n",
      "Using a zenith opacity of [0.237] to conver from Ta to Ta'=2.385 K\n",
      "Observed 0319+4130 at an elevation of 55.2179877904977 and frequency 1.12359e+11 Hz with RcvrArray75_115\n",
      "ALMA flux for the source:\n",
      "   FluxDensity    \n",
      "      Jansky      \n",
      "------------------\n",
      "14.829753163150489\n",
      "Using a zenith opacity of [0.2368] to conver from Ta to Ta'=5.923 K\n",
      "CPU times: user 231 ms, sys: 56.3 ms, total: 287 ms\n",
      "Wall time: 1.84 s\n"
     ]
    },
    {
     "data": {
      "text/plain": [
       "{8: [2.81, <Quantity 326.53249274 um>],\n",
       " 9: [5.487, <Quantity 276.50410399 um>],\n",
       " 10: [2.385, <Quantity 337.66300706 um>],\n",
       " 11: [5.923, <Quantity 270.19893174 um>]}"
      ]
     },
     "execution_count": 10,
     "metadata": {},
     "output_type": "execute_result"
    }
   ],
   "source": [
    "%%time\n",
    "\n",
    "path = \"/home/gbtdata/\"\n",
    "project = \"AGBT21B_228\"\n",
    "session = \"03\"\n",
    "\n",
    "oofa = oof_analysis.OOFAnalysis(path, project, session)\n",
    "\n",
    "scan_dict = {8: 2.810,\n",
    "             9: 5.487,\n",
    "             10: 2.385,\n",
    "             11: 5.923}\n",
    "\n",
    "for scan,ta in scan_dict.items():\n",
    "    rms = oofa.compute_surface_rms(scan, ta, verbose=True)\n",
    "    scan_dict[scan] = [ta, rms]\n",
    "    \n",
    "scan_dict"
   ]
  },
  {
   "cell_type": "code",
   "execution_count": 11,
   "id": "ad10fde0",
   "metadata": {},
   "outputs": [
    {
     "name": "stdout",
     "output_type": "stream",
     "text": [
      "Observed 0319+4130 at an elevation of 56.3162030070389 and frequency 1.12359e+11 Hz with RcvrArray75_115\n",
      "ALMA flux for the source:\n",
      "   FluxDensity    \n",
      "      Jansky      \n",
      "------------------\n",
      "14.829753163150489\n",
      "Using a zenith opacity of [0.2359] to conver from Ta to Ta'=1.48 K\n",
      "Observed 0319+4130 at an elevation of 56.4363365642199 and frequency 1.12359e+11 Hz with RcvrArray75_115\n",
      "ALMA flux for the source:\n",
      "   FluxDensity    \n",
      "      Jansky      \n",
      "------------------\n",
      "14.829753163150489\n",
      "Using a zenith opacity of [0.2359] to conver from Ta to Ta'=2.336 K\n",
      "Observed 0319+4130 at an elevation of 56.5595650097611 and frequency 1.12359e+11 Hz with RcvrArray75_115\n",
      "ALMA flux for the source:\n",
      "   FluxDensity    \n",
      "      Jansky      \n",
      "------------------\n",
      "14.829753163150489\n",
      "Using a zenith opacity of [0.2358] to conver from Ta to Ta'=3.24 K\n",
      "Observed 0319+4130 at an elevation of 56.6797527998501 and frequency 1.12359e+11 Hz with RcvrArray75_115\n",
      "ALMA flux for the source:\n",
      "   FluxDensity    \n",
      "      Jansky      \n",
      "------------------\n",
      "14.829753163150489\n",
      "Using a zenith opacity of [0.2358] to conver from Ta to Ta'=5.085 K\n",
      "Observed 0319+4130 at an elevation of 56.8862546621478 and frequency 1.12359e+11 Hz with RcvrArray75_115\n",
      "ALMA flux for the source:\n",
      "   FluxDensity    \n",
      "      Jansky      \n",
      "------------------\n",
      "14.829753163150489\n",
      "Using a zenith opacity of [0.2357] to conver from Ta to Ta'=6 K\n"
     ]
    },
    {
     "data": {
      "text/plain": [
       "{15: [1.48, <Quantity 368.14079383 um>],\n",
       " 16: [2.336, <Quantity 339.04597406 um>],\n",
       " 17: [3.24, <Quantity 316.55055174 um>],\n",
       " 18: [5.085, <Quantity 282.63877991 um>],\n",
       " 19: [6, <Quantity 269.11923385 um>]}"
      ]
     },
     "execution_count": 11,
     "metadata": {},
     "output_type": "execute_result"
    }
   ],
   "source": [
    "path = \"/home/gbtdata/\"\n",
    "project = \"AGBT21B_228\"\n",
    "session = \"03\"\n",
    "\n",
    "oofa = oof_analysis.OOFAnalysis(path, project, session)\n",
    "\n",
    "scan_dict = {15: 1.480,\n",
    "             16: 2.336,\n",
    "             17: 3.240,\n",
    "             18: 5.085,\n",
    "             19: 183-177}\n",
    "\n",
    "for scan,ta in scan_dict.items():\n",
    "    rms = oofa.compute_surface_rms(scan, ta, verbose=True)\n",
    "    scan_dict[scan] = [ta, rms]\n",
    "    \n",
    "scan_dict"
   ]
  },
  {
   "cell_type": "code",
   "execution_count": 12,
   "id": "4e89ed7d",
   "metadata": {},
   "outputs": [
    {
     "name": "stdout",
     "output_type": "stream",
     "text": [
      "Observed 0319+4130 at an elevation of 58.1629370326607 and frequency 1.12359e+11 Hz with RcvrArray75_115\n",
      "ALMA flux for the source:\n",
      "   FluxDensity    \n",
      "      Jansky      \n",
      "------------------\n",
      "14.830639680729773\n",
      "Using a zenith opacity of [0.2431] to conver from Ta to Ta'=5.238 K\n",
      "Observed 0319+4130 at an elevation of 58.042441035777 and frequency 1.12359e+11 Hz with RcvrArray75_115\n",
      "ALMA flux for the source:\n",
      "   FluxDensity    \n",
      "      Jansky      \n",
      "------------------\n",
      "14.830639680729773\n",
      "Using a zenith opacity of [0.2425] to conver from Ta to Ta'=3.662 K\n",
      "Observed 0319+4130 at an elevation of 57.9157995507789 and frequency 1.12359e+11 Hz with RcvrArray75_115\n",
      "ALMA flux for the source:\n",
      "   FluxDensity    \n",
      "      Jansky      \n",
      "------------------\n",
      "14.830639680729773\n",
      "Using a zenith opacity of [0.2419] to conver from Ta to Ta'=7.098 K\n",
      "Observed 0319+4130 at an elevation of 57.7953538174198 and frequency 1.12359e+11 Hz with RcvrArray75_115\n",
      "ALMA flux for the source:\n",
      "   FluxDensity    \n",
      "      Jansky      \n",
      "------------------\n",
      "14.830639680729773\n",
      "Using a zenith opacity of [0.2413] to conver from Ta to Ta'=5.133 K\n",
      "Observed 0319+4130 at an elevation of 57.5607158097783 and frequency 1.12359e+11 Hz with RcvrArray75_115\n",
      "ALMA flux for the source:\n",
      "   FluxDensity    \n",
      "      Jansky      \n",
      "------------------\n",
      "14.830639680729773\n",
      "Using a zenith opacity of [0.2404] to conver from Ta to Ta'=7.138 K\n"
     ]
    },
    {
     "data": {
      "text/plain": [
       "{13: [5.238, <Quantity 280.26937535 um>],\n",
       " 14: [3.662, <Quantity 307.71292583 um>],\n",
       " 15: [7.098, <Quantity 254.65980138 um>],\n",
       " 16: [5.133, <Quantity 281.89326908 um>],\n",
       " 17: [7.138, <Quantity 254.16189968 um>]}"
      ]
     },
     "execution_count": 12,
     "metadata": {},
     "output_type": "execute_result"
    }
   ],
   "source": [
    "path = \"/home/gbtdata/\"\n",
    "project = \"AGBT21B_228\"\n",
    "session = \"04\"\n",
    "\n",
    "oofa = oof_analysis.OOFAnalysis(path, project, session)\n",
    "\n",
    "scan_dict = {13: 5.238,\n",
    "             14: 3.662,\n",
    "             15: 7.098,\n",
    "             16: 5.133,\n",
    "             17: 7.138}\n",
    "\n",
    "for scan,ta in scan_dict.items():\n",
    "    rms = oofa.compute_surface_rms(scan, ta, verbose=True)\n",
    "    scan_dict[scan] = [ta, rms]\n",
    "    \n",
    "scan_dict"
   ]
  },
  {
   "cell_type": "code",
   "execution_count": 13,
   "id": "f73e6f54",
   "metadata": {},
   "outputs": [
    {
     "data": {
      "text/plain": [
       "{8: [3.421, <Quantity 312.01393306 um>],\n",
       " 9: [3.691, <Quantity 306.47681651 um>],\n",
       " 10: [8.462, <Quantity 237.74731984 um>],\n",
       " 11: [6.111, <Quantity 266.82926705 um>],\n",
       " 12: [8.46, <Quantity 237.76973017 um>]}"
      ]
     },
     "execution_count": 13,
     "metadata": {},
     "output_type": "execute_result"
    }
   ],
   "source": [
    "path = \"/home/gbtdata/\"\n",
    "project = \"AGBT21B_228\"\n",
    "session = \"05\"\n",
    "\n",
    "oofa = oof_analysis.OOFAnalysis(path, project, session)\n",
    "\n",
    "scan_dict = {8: 3.421,\n",
    "             9: 3.691,\n",
    "             10: 8.462,\n",
    "             11: 6.111,\n",
    "             12: 8.460}\n",
    "\n",
    "for scan,ta in scan_dict.items():\n",
    "    rms = oofa.compute_surface_rms(scan, ta, verbose=False)\n",
    "    scan_dict[scan] = [ta, rms]\n",
    "    \n",
    "scan_dict"
   ]
  },
  {
   "cell_type": "code",
   "execution_count": 5,
   "id": "8b39fce1",
   "metadata": {},
   "outputs": [
    {
     "name": "stdout",
     "output_type": "stream",
     "text": [
      "5 ['1229+0203', 59860.70972222222, 53.1668921716916, 0.797, 0.1777, 504.55751300680845]\n",
      "6 ['1229+0203', 59860.71034722222, 53.1382361677321, 0.498, 0.1777, 547.4591432287198]\n",
      "7 ['1229+0203', 59860.71082175926, 53.1157383060941, 1.186, 0.1777, 465.196728225863]\n",
      "8 ['1229+0203', 59860.71127314815, 53.0937173863168, 0.646, 0.1777, 524.139024934548]\n"
     ]
    }
   ],
   "source": [
    "# User defined variables.\n",
    "\n",
    "path = \"/home/gbtdata\" # root path to the data. If the data has been archived, this would be different.\n",
    "project = \"AGMVA21B_164\"\n",
    "session = \"03\"\n",
    "\n",
    "oofa = oof_analysis.OOFAnalysis(path, project, session)\n",
    "\n",
    "scan_dict = {5:  0.797,\n",
    "             6:  0.498,\n",
    "             7: 1.186,\n",
    "             8: 0.646}\n",
    "\n",
    "for scan,ta in scan_dict.items():\n",
    "    rms = oofa.compute_surface_rms(scan, ta)\n",
    "    scan_dict[scan] = [rms[\"object\"], rms[\"mjd\"], rms[\"El\"], ta, rms[\"tau0\"][0], rms[\"rms\"].value]\n",
    "    \n",
    "scan_dict\n",
    "for s in scan_dict:\n",
    "    print(f\"{s} {scan_dict[s]}\")\n",
    "#scan  Object time  elv  T_ant  tau"
   ]
  },
  {
   "cell_type": "code",
   "execution_count": 6,
   "id": "fd17b377",
   "metadata": {},
   "outputs": [
    {
     "name": "stdout",
     "output_type": "stream",
     "text": [
      "10 ['1229+0203', 59860.71320601852, 52.992948429195, 2.957, 0.1776, 358.7301758304953]\n",
      "11 ['1229+0203', 59860.71365740741, 52.9678323906535, 2.458, 0.1776, 382.6518366829066]\n",
      "12 ['1229+0203', 59860.71412037037, 52.9414212997769, 1.4, 0.1776, 447.71331577729546]\n",
      "13 ['1229+0203', 59860.71457175926, 52.9151422754189, 2.65, 0.1776, 373.0788004547748]\n",
      "14 ['1229+0203', 59860.71505787037, 52.8757597794975, 1.4, 0.1775, 447.7060800984384]\n"
     ]
    }
   ],
   "source": [
    "# User defined variables.\n",
    "\n",
    "path = \"/home/gbtdata\" # root path to the data. If the data has been archived, this would be different.\n",
    "project = \"AGMVA21B_164\"\n",
    "session = \"03\"\n",
    "\n",
    "oofa = oof_analysis.OOFAnalysis(path, project, session)\n",
    "\n",
    "scan_dict = {10: 2.957,\n",
    "             11: 2.458,\n",
    "             12: 1.4,\n",
    "             13: 2.650,\n",
    "             14: 1.4}\n",
    "\n",
    "for scan,ta in scan_dict.items():\n",
    "    rms = oofa.compute_surface_rms(scan, ta)\n",
    "    scan_dict[scan] = [rms[\"object\"], rms[\"mjd\"], rms[\"El\"], ta, rms[\"tau0\"][0], rms[\"rms\"].value]\n",
    "    \n",
    "scan_dict\n",
    "for s in scan_dict:\n",
    "    print(f\"{s} {scan_dict[s]}\")\n",
    "#scan  Object time  elv  T_ant  tau"
   ]
  },
  {
   "cell_type": "code",
   "execution_count": 13,
   "id": "2c1ac523",
   "metadata": {},
   "outputs": [
    {
     "name": "stdout",
     "output_type": "stream",
     "text": [
      "20 ['0854+2006', 59860.72741898148, 31.30951486697, 1.169, 0.1434, 360.66120069254936]\n",
      "21 ['0854+2006', 59860.72787037037, 31.18208946824, 1.157, 0.1434, 361.647827939581]\n"
     ]
    }
   ],
   "source": [
    "# User defined variables.\n",
    "\n",
    "path = \"/home/gbtdata\" # root path to the data. If the data has been archived, this would be different.\n",
    "project = \"AGMVA21B_164\"\n",
    "session = \"03\"\n",
    "\n",
    "oofa = oof_analysis.OOFAnalysis(path, project, session)\n",
    "\n",
    "scan_dict = {20: 1.169,\n",
    "             21: 1.157,\n",
    "             }\n",
    "\n",
    "for scan,ta in scan_dict.items():\n",
    "    rms = oofa.compute_surface_rms(scan, ta, source=\"0854+2006\", verbose=False)\n",
    "    scan_dict[scan] = [rms[\"object\"], rms[\"mjd\"], rms[\"El\"], ta, rms[\"tau0\"][0], rms[\"rms\"].value]\n",
    "    \n",
    "scan_dict\n",
    "for s in scan_dict:\n",
    "    print(f\"{s} {scan_dict[s]}\")\n",
    "#scan  Object time  elv  T_ant  tau"
   ]
  },
  {
   "cell_type": "code",
   "execution_count": 15,
   "id": "2e31fde9",
   "metadata": {},
   "outputs": [
    {
     "name": "stderr",
     "output_type": "stream",
     "text": [
      "/home/sandboxes/psalas/PTCS/AutoOOF/oof_au/ruze.py:20: RuntimeWarning: divide by zero encountered in log\n",
      "  return np.sqrt(-np.log(eta_a/eta_0))/(4*np.pi)*lmbd\n"
     ]
    },
    {
     "name": "stdout",
     "output_type": "stream",
     "text": [
      "61 ['K3-50A', 59860.81508101852, 34.8812873782562, 2.058, 0.1489, '--']\n",
      "63 ['K3-50A', 59860.81611111111, 35.2049997369932, 2.761, 0.1489, '--']\n"
     ]
    },
    {
     "name": "stderr",
     "output_type": "stream",
     "text": [
      "/home/sandboxes/psalas/PTCS/AutoOOF/oof_au/ruze.py:20: RuntimeWarning: divide by zero encountered in log\n",
      "  return np.sqrt(-np.log(eta_a/eta_0))/(4*np.pi)*lmbd\n"
     ]
    }
   ],
   "source": [
    "# User defined variables.\n",
    "\n",
    "path = \"/home/gbtdata\" # root path to the data. If the data has been archived, this would be different.\n",
    "project = \"AGMVA21B_164\"\n",
    "session = \"03\"\n",
    "\n",
    "oofa = oof_analysis.OOFAnalysis(path, project, session)\n",
    "\n",
    "scan_dict = {61: 2.058,\n",
    "             63: 2.761,\n",
    "             }\n",
    "\n",
    "for scan,ta in scan_dict.items():\n",
    "    rms = oofa.compute_surface_rms(scan, ta)\n",
    "    try:\n",
    "        scan_dict[scan] = [rms[\"object\"], rms[\"mjd\"], rms[\"El\"], ta, rms[\"tau0\"][0], rms[\"rms\"].value]\n",
    "    except AttributeError:\n",
    "        scan_dict[scan] = [rms[\"object\"], rms[\"mjd\"], rms[\"El\"], ta, rms[\"tau0\"][0], \"--\"]\n",
    "    \n",
    "scan_dict\n",
    "for s in scan_dict:\n",
    "    print(f\"{s} {scan_dict[s]}\")\n",
    "#scan  Object time  elv  T_ant  tau"
   ]
  },
  {
   "cell_type": "code",
   "execution_count": 17,
   "id": "e64123ff",
   "metadata": {},
   "outputs": [
    {
     "name": "stdout",
     "output_type": "stream",
     "text": [
      "67 ['2202+4216', 59860.82848379629, 21.6629863277233, 1.833, 0.1488, 410.7381645117345]\n",
      "68 ['2202+4216', 59860.828935185185, 21.7636778660036, 1.691, 0.1488, 418.3508824482371]\n",
      "69 ['2202+4216', 59860.82939814815, 21.8672834333308, 0.799, 0.1488, 482.2612702689095]\n",
      "70 ['2202+4216', 59860.82986111111, 21.9709717874539, 1.725, 0.1488, 416.85566373678756]\n",
      "71 ['2202+4216', 59860.830358796295, 22.1213282755414, 1.0, 0.1488, 464.46079828207326]\n"
     ]
    }
   ],
   "source": [
    "# User defined variables.\n",
    "\n",
    "path = \"/home/gbtdata\" # root path to the data. If the data has been archived, this would be different.\n",
    "project = \"AGMVA21B_164\"\n",
    "session = \"03\"\n",
    "\n",
    "oofa = oof_analysis.OOFAnalysis(path, project, session)\n",
    "\n",
    "scan_dict = {67: 1.833,\n",
    "             68: 1.691,\n",
    "             69: 0.799,\n",
    "             70: 1.725,\n",
    "             71: 1.0\n",
    "             }\n",
    "\n",
    "for scan,ta in scan_dict.items():\n",
    "    rms = oofa.compute_surface_rms(scan, ta, source=\"2202+4216\")\n",
    "    try:\n",
    "        scan_dict[scan] = [rms[\"object\"], rms[\"mjd\"], rms[\"El\"], ta, rms[\"tau0\"][0], rms[\"rms\"].value]\n",
    "    except AttributeError:\n",
    "        scan_dict[scan] = [rms[\"object\"], rms[\"mjd\"], rms[\"El\"], ta, rms[\"tau0\"][0], \"--\"]\n",
    "    \n",
    "scan_dict\n",
    "for s in scan_dict:\n",
    "    print(f\"{s} {scan_dict[s]}\")"
   ]
  },
  {
   "cell_type": "code",
   "execution_count": 19,
   "id": "0afa1db7",
   "metadata": {},
   "outputs": [
    {
     "name": "stderr",
     "output_type": "stream",
     "text": [
      "/home/sandboxes/psalas/PTCS/AutoOOF/oof_au/ruze.py:20: RuntimeWarning: divide by zero encountered in log\n",
      "  return np.sqrt(-np.log(eta_a/eta_0))/(4*np.pi)*lmbd\n"
     ]
    },
    {
     "name": "stdout",
     "output_type": "stream",
     "text": [
      "77 ['K3-50A', 59860.84384259259, 42.7062506580834, 2.128, 0.1532, '--']\n",
      "78 ['K3-50A', 59860.844293981485, 42.8303184185977, 1.562, 0.1534, '--']\n"
     ]
    },
    {
     "name": "stderr",
     "output_type": "stream",
     "text": [
      "/home/sandboxes/psalas/PTCS/AutoOOF/oof_au/ruze.py:20: RuntimeWarning: divide by zero encountered in log\n",
      "  return np.sqrt(-np.log(eta_a/eta_0))/(4*np.pi)*lmbd\n"
     ]
    }
   ],
   "source": [
    "# User defined variables.\n",
    "\n",
    "path = \"/home/gbtdata\" # root path to the data. If the data has been archived, this would be different.\n",
    "project = \"AGMVA21B_164\"\n",
    "session = \"03\"\n",
    "\n",
    "oofa = oof_analysis.OOFAnalysis(path, project, session)\n",
    "\n",
    "scan_dict = {77: 2.128,\n",
    "             78: 1.562,\n",
    "             }\n",
    "\n",
    "for scan,ta in scan_dict.items():\n",
    "    rms = oofa.compute_surface_rms(scan, ta)\n",
    "    try:\n",
    "        scan_dict[scan] = [rms[\"object\"], rms[\"mjd\"], rms[\"El\"], ta, rms[\"tau0\"][0], rms[\"rms\"].value]\n",
    "    except AttributeError:\n",
    "        scan_dict[scan] = [rms[\"object\"], rms[\"mjd\"], rms[\"El\"], ta, rms[\"tau0\"][0], \"--\"]\n",
    "    \n",
    "scan_dict\n",
    "for s in scan_dict:\n",
    "    print(f\"{s} {scan_dict[s]}\")"
   ]
  },
  {
   "cell_type": "code",
   "execution_count": 20,
   "id": "3c627abf",
   "metadata": {},
   "outputs": [
    {
     "name": "stderr",
     "output_type": "stream",
     "text": [
      "/home/sandboxes/psalas/PTCS/AutoOOF/oof_au/ruze.py:20: RuntimeWarning: divide by zero encountered in log\n",
      "  return np.sqrt(-np.log(eta_a/eta_0))/(4*np.pi)*lmbd\n",
      "/home/sandboxes/psalas/PTCS/AutoOOF/oof_au/ruze.py:20: RuntimeWarning: divide by zero encountered in log\n",
      "  return np.sqrt(-np.log(eta_a/eta_0))/(4*np.pi)*lmbd\n",
      "/home/sandboxes/psalas/PTCS/AutoOOF/oof_au/ruze.py:20: RuntimeWarning: divide by zero encountered in log\n",
      "  return np.sqrt(-np.log(eta_a/eta_0))/(4*np.pi)*lmbd\n",
      "/home/sandboxes/psalas/PTCS/AutoOOF/oof_au/ruze.py:20: RuntimeWarning: divide by zero encountered in log\n",
      "  return np.sqrt(-np.log(eta_a/eta_0))/(4*np.pi)*lmbd\n"
     ]
    },
    {
     "name": "stdout",
     "output_type": "stream",
     "text": [
      "83 ['K3-50A', 59860.85457175926, 45.6677858783971, 0.887, 0.1577, '--']\n",
      "84 ['K3-50A', 59860.85502314815, 45.7927458572851, 0.758, 0.1579, '--']\n",
      "85 ['K3-50A', 59860.85548611111, 45.9211026188755, 0.639, 0.1581, '--']\n",
      "86 ['K3-50A', 59860.8559375, 46.0461813014222, 0.551, 0.1583, '--']\n",
      "87 ['K3-50A', 59860.85643518518, 46.2323131504226, 2.437, 0.1585, '--']\n"
     ]
    },
    {
     "name": "stderr",
     "output_type": "stream",
     "text": [
      "/home/sandboxes/psalas/PTCS/AutoOOF/oof_au/ruze.py:20: RuntimeWarning: divide by zero encountered in log\n",
      "  return np.sqrt(-np.log(eta_a/eta_0))/(4*np.pi)*lmbd\n"
     ]
    }
   ],
   "source": [
    "# User defined variables.\n",
    "\n",
    "path = \"/home/gbtdata\" # root path to the data. If the data has been archived, this would be different.\n",
    "project = \"AGMVA21B_164\"\n",
    "session = \"03\"\n",
    "\n",
    "oofa = oof_analysis.OOFAnalysis(path, project, session)\n",
    "\n",
    "scan_dict = {83: 0.887,\n",
    "             84: 0.758,\n",
    "             85: 0.639,\n",
    "             86: 0.551,\n",
    "             87: 2.437\n",
    "             }\n",
    "\n",
    "for scan,ta in scan_dict.items():\n",
    "    rms = oofa.compute_surface_rms(scan, ta)\n",
    "    try:\n",
    "        scan_dict[scan] = [rms[\"object\"], rms[\"mjd\"], rms[\"El\"], ta, rms[\"tau0\"][0], rms[\"rms\"].value]\n",
    "    except AttributeError:\n",
    "        scan_dict[scan] = [rms[\"object\"], rms[\"mjd\"], rms[\"El\"], ta, rms[\"tau0\"][0], \"--\"]\n",
    "    \n",
    "scan_dict\n",
    "for s in scan_dict:\n",
    "    print(f\"{s} {scan_dict[s]}\")"
   ]
  },
  {
   "cell_type": "code",
   "execution_count": 21,
   "id": "779390d8",
   "metadata": {},
   "outputs": [
    {
     "name": "stdout",
     "output_type": "stream",
     "text": [
      "95 ['2202+4216', 59860.89356481482, 37.0661046869434, 1.5, 0.2001, 506.2118642047531]\n",
      "96 ['2202+4216', 59860.894155092596, 37.2124559177135, 0.7, 0.2003, 574.0089078204554]\n",
      "97 ['2202+4216', 59860.89462962963, 37.3303134471936, 0.706, 0.2004, 573.355844526634]\n",
      "98 ['2202+4216', 59860.89508101852, 37.4423959113501, 1.393, 0.2005, 513.3861323738585]\n"
     ]
    }
   ],
   "source": [
    "# User defined variables.\n",
    "\n",
    "path = \"/home/gbtdata\" # root path to the data. If the data has been archived, this would be different.\n",
    "project = \"AGMVA21B_164\"\n",
    "session = \"03\"\n",
    "\n",
    "oofa = oof_analysis.OOFAnalysis(path, project, session)\n",
    "\n",
    "scan_dict = {95: 1.5,\n",
    "             96: 0.7,\n",
    "             97: 0.706,\n",
    "             98: 1.393,\n",
    "             }\n",
    "\n",
    "for scan,ta in scan_dict.items():\n",
    "    rms = oofa.compute_surface_rms(scan, ta)\n",
    "    try:\n",
    "        scan_dict[scan] = [rms[\"object\"], rms[\"mjd\"], rms[\"El\"], ta, rms[\"tau0\"][0], rms[\"rms\"].value]\n",
    "    except AttributeError:\n",
    "        scan_dict[scan] = [rms[\"object\"], rms[\"mjd\"], rms[\"El\"], ta, rms[\"tau0\"][0], \"--\"]\n",
    "    \n",
    "scan_dict\n",
    "for s in scan_dict:\n",
    "    print(f\"{s} {scan_dict[s]}\")"
   ]
  },
  {
   "cell_type": "code",
   "execution_count": 24,
   "id": "589d8e75",
   "metadata": {},
   "outputs": [
    {
     "name": "stderr",
     "output_type": "stream",
     "text": [
      "/home/sandboxes/psalas/PTCS/AutoOOF/oof_au/ruze.py:20: RuntimeWarning: divide by zero encountered in log\n",
      "  return np.sqrt(-np.log(eta_a/eta_0))/(4*np.pi)*lmbd\n",
      "/home/sandboxes/psalas/PTCS/AutoOOF/oof_au/ruze.py:20: RuntimeWarning: divide by zero encountered in log\n",
      "  return np.sqrt(-np.log(eta_a/eta_0))/(4*np.pi)*lmbd\n",
      "/home/sandboxes/psalas/PTCS/AutoOOF/oof_au/ruze.py:20: RuntimeWarning: divide by zero encountered in log\n",
      "  return np.sqrt(-np.log(eta_a/eta_0))/(4*np.pi)*lmbd\n",
      "/home/sandboxes/psalas/PTCS/AutoOOF/oof_au/ruze.py:20: RuntimeWarning: divide by zero encountered in log\n",
      "  return np.sqrt(-np.log(eta_a/eta_0))/(4*np.pi)*lmbd\n"
     ]
    },
    {
     "name": "stdout",
     "output_type": "stream",
     "text": [
      "101 ['K3-50A', 59860.898888888885, 58.0725643774435, 1.831, 0.1723, '--']\n",
      "102 ['K3-50A', 59860.89934027778, 58.1998916804531, 2.0, 0.1725, '--']\n",
      "103 ['K3-50A', 59860.900729166664, 58.5918304565526, 1.801, 0.1728, '--']\n",
      "104 ['K3-50A', 59860.90118055556, 58.7192102060758, 1.998, 0.1729, '--']\n",
      "105 ['K3-50A', 59860.90167824074, 58.9087046730188, 1.984, 0.173, '--']\n"
     ]
    },
    {
     "name": "stderr",
     "output_type": "stream",
     "text": [
      "/home/sandboxes/psalas/PTCS/AutoOOF/oof_au/ruze.py:20: RuntimeWarning: divide by zero encountered in log\n",
      "  return np.sqrt(-np.log(eta_a/eta_0))/(4*np.pi)*lmbd\n"
     ]
    }
   ],
   "source": [
    "# User defined variables.\n",
    "\n",
    "path = \"/home/gbtdata\" # root path to the data. If the data has been archived, this would be different.\n",
    "project = \"AGMVA21B_164\"\n",
    "session = \"03\"\n",
    "\n",
    "oofa = oof_analysis.OOFAnalysis(path, project, session)\n",
    "\n",
    "scan_dict = {101: 1.831,\n",
    "             102: 2.0,\n",
    "             103: 1.801,\n",
    "             104: 1.998,\n",
    "             105: 1.984\n",
    "             }\n",
    "\n",
    "for scan,ta in scan_dict.items():\n",
    "    rms = oofa.compute_surface_rms(scan, ta)\n",
    "    try:\n",
    "        scan_dict[scan] = [rms[\"object\"], rms[\"mjd\"], rms[\"El\"], ta, rms[\"tau0\"][0], rms[\"rms\"].value]\n",
    "    except AttributeError:\n",
    "        scan_dict[scan] = [rms[\"object\"], rms[\"mjd\"], rms[\"El\"], ta, rms[\"tau0\"][0], \"--\"]\n",
    "    \n",
    "scan_dict\n",
    "for s in scan_dict:\n",
    "    print(f\"{s} {scan_dict[s]}\")"
   ]
  },
  {
   "cell_type": "code",
   "execution_count": 25,
   "id": "72f18ec3",
   "metadata": {},
   "outputs": [
    {
     "name": "stdout",
     "output_type": "stream",
     "text": [
      "111 ['2202+4216', 59860.93765046296, 48.2484035959446, 1.05, 0.1709, 474.0318434456419]\n",
      "112 ['2202+4216', 59860.938101851854, 48.3651633325821, 2.121, 0.1707, 413.4113110756271]\n",
      "113 ['2202+4216', 59860.938564814816, 48.4849129944856, 1.148, 0.1706, 466.8693619323333]\n",
      "114 ['2202+4216', 59860.9390162037, 48.6017386416425, 1.607, 0.1705, 438.4609977323918]\n",
      "115 ['2202+4216', 59860.93951388889, 48.7755608598817, 2.438, 0.1703, 400.48939223162785]\n"
     ]
    }
   ],
   "source": [
    "# User defined variables.\n",
    "\n",
    "path = \"/home/gbtdata\" # root path to the data. If the data has been archived, this would be different.\n",
    "project = \"AGMVA21B_164\"\n",
    "session = \"03\"\n",
    "\n",
    "oofa = oof_analysis.OOFAnalysis(path, project, session)\n",
    "\n",
    "scan_dict = {111: 1.05,\n",
    "             112: 2.121,\n",
    "             113: 1.148,\n",
    "             114: 1.607,\n",
    "             115: 2.438\n",
    "             }\n",
    "\n",
    "for scan,ta in scan_dict.items():\n",
    "    rms = oofa.compute_surface_rms(scan, ta, source=\"2202+4216\")  # BLLAC\n",
    "    try:\n",
    "        scan_dict[scan] = [rms[\"object\"], rms[\"mjd\"], rms[\"El\"], ta, rms[\"tau0\"][0], rms[\"rms\"].value]\n",
    "    except AttributeError:\n",
    "        scan_dict[scan] = [rms[\"object\"], rms[\"mjd\"], rms[\"El\"], ta, rms[\"tau0\"][0], \"--\"]\n",
    "    \n",
    "scan_dict\n",
    "for s in scan_dict:\n",
    "    print(f\"{s} {scan_dict[s]}\")"
   ]
  },
  {
   "cell_type": "code",
   "execution_count": 26,
   "id": "c4768791",
   "metadata": {},
   "outputs": [
    {
     "name": "stderr",
     "output_type": "stream",
     "text": [
      "/home/sandboxes/psalas/PTCS/AutoOOF/oof_au/ruze.py:20: RuntimeWarning: divide by zero encountered in log\n",
      "  return np.sqrt(-np.log(eta_a/eta_0))/(4*np.pi)*lmbd\n",
      "/home/sandboxes/psalas/PTCS/AutoOOF/oof_au/ruze.py:20: RuntimeWarning: divide by zero encountered in log\n",
      "  return np.sqrt(-np.log(eta_a/eta_0))/(4*np.pi)*lmbd\n",
      "/home/sandboxes/psalas/PTCS/AutoOOF/oof_au/ruze.py:20: RuntimeWarning: divide by zero encountered in log\n",
      "  return np.sqrt(-np.log(eta_a/eta_0))/(4*np.pi)*lmbd\n"
     ]
    },
    {
     "name": "stdout",
     "output_type": "stream",
     "text": [
      "128 ['K3-50A', 59860.979155092595, 80.3403905899955, 2.0, 0.1583, '--']\n",
      "129 ['K3-50A', 59860.97961805556, 80.4570042517331, 1.485, 0.1581, '--']\n",
      "131 ['K3-50A', 59860.980578703704, 80.6974258881983, 1.919, 0.1578, '--']\n",
      "132 ['K3-50A', 59860.981087962966, 80.866977346193, 1.307, 0.1576, '--']\n"
     ]
    },
    {
     "name": "stderr",
     "output_type": "stream",
     "text": [
      "/home/sandboxes/psalas/PTCS/AutoOOF/oof_au/ruze.py:20: RuntimeWarning: divide by zero encountered in log\n",
      "  return np.sqrt(-np.log(eta_a/eta_0))/(4*np.pi)*lmbd\n"
     ]
    }
   ],
   "source": [
    "# User defined variables.\n",
    "\n",
    "path = \"/home/gbtdata\" # root path to the data. If the data has been archived, this would be different.\n",
    "project = \"AGMVA21B_164\"\n",
    "session = \"03\"\n",
    "\n",
    "oofa = oof_analysis.OOFAnalysis(path, project, session)\n",
    "\n",
    "scan_dict = {128: 2.0,\n",
    "             129: 1.485,\n",
    "             131: 1.919,\n",
    "             132: 1.307\n",
    "             }\n",
    "\n",
    "for scan,ta in scan_dict.items():\n",
    "    rms = oofa.compute_surface_rms(scan, ta)\n",
    "    try:\n",
    "        scan_dict[scan] = [rms[\"object\"], rms[\"mjd\"], rms[\"El\"], ta, rms[\"tau0\"][0], rms[\"rms\"].value]\n",
    "    except AttributeError:\n",
    "        scan_dict[scan] = [rms[\"object\"], rms[\"mjd\"], rms[\"El\"], ta, rms[\"tau0\"][0], \"--\"]\n",
    "    \n",
    "scan_dict\n",
    "for s in scan_dict:\n",
    "    print(f\"{s} {scan_dict[s]}\")"
   ]
  },
  {
   "cell_type": "code",
   "execution_count": 27,
   "id": "72351e22",
   "metadata": {},
   "outputs": [
    {
     "name": "stdout",
     "output_type": "stream",
     "text": [
      "140 ['2202+4216', 59861.00983796296, 67.2819534369834, 2.963, 0.1379, 389.03284152675474]\n"
     ]
    }
   ],
   "source": [
    "# User defined variables.\n",
    "\n",
    "path = \"/home/gbtdata\" # root path to the data. If the data has been archived, this would be different.\n",
    "project = \"AGMVA21B_164\"\n",
    "session = \"03\"\n",
    "\n",
    "oofa = oof_analysis.OOFAnalysis(path, project, session)\n",
    "\n",
    "scan_dict = {140: 2.963\n",
    "             }\n",
    "\n",
    "for scan,ta in scan_dict.items():\n",
    "    rms = oofa.compute_surface_rms(scan, ta, source=\"2202+4216\")\n",
    "    try:\n",
    "        scan_dict[scan] = [rms[\"object\"], rms[\"mjd\"], rms[\"El\"], ta, rms[\"tau0\"][0], rms[\"rms\"].value]\n",
    "    except AttributeError:\n",
    "        scan_dict[scan] = [rms[\"object\"], rms[\"mjd\"], rms[\"El\"], ta, rms[\"tau0\"][0], \"--\"]\n",
    "    \n",
    "scan_dict\n",
    "for s in scan_dict:\n",
    "    print(f\"{s} {scan_dict[s]}\")"
   ]
  },
  {
   "cell_type": "code",
   "execution_count": 28,
   "id": "03071d14",
   "metadata": {},
   "outputs": [
    {
     "name": "stderr",
     "output_type": "stream",
     "text": [
      "/home/sandboxes/psalas/PTCS/AutoOOF/oof_au/ruze.py:20: RuntimeWarning: divide by zero encountered in log\n",
      "  return np.sqrt(-np.log(eta_a/eta_0))/(4*np.pi)*lmbd\n",
      "/home/sandboxes/psalas/PTCS/AutoOOF/oof_au/ruze.py:20: RuntimeWarning: divide by zero encountered in log\n",
      "  return np.sqrt(-np.log(eta_a/eta_0))/(4*np.pi)*lmbd\n",
      "/home/sandboxes/psalas/PTCS/AutoOOF/oof_au/ruze.py:20: RuntimeWarning: divide by zero encountered in log\n",
      "  return np.sqrt(-np.log(eta_a/eta_0))/(4*np.pi)*lmbd\n"
     ]
    },
    {
     "name": "stdout",
     "output_type": "stream",
     "text": [
      "159 ['K3-50A', 59861.04888888889, 77.1136871862767, 1.094, 0.0928, '--']\n",
      "160 ['K3-50A', 59861.04934027778, 76.9918615776504, 1.336, 0.0928, '--']\n",
      "161 ['K3-50A', 59861.04982638889, 76.8604715092493, 0.913, 0.0927, '--']\n",
      "162 ['K3-50A', 59861.05043981481, 76.694391940092, 0.9, 0.0926, '--']\n"
     ]
    },
    {
     "name": "stderr",
     "output_type": "stream",
     "text": [
      "/home/sandboxes/psalas/PTCS/AutoOOF/oof_au/ruze.py:20: RuntimeWarning: divide by zero encountered in log\n",
      "  return np.sqrt(-np.log(eta_a/eta_0))/(4*np.pi)*lmbd\n"
     ]
    }
   ],
   "source": [
    "# User defined variables.\n",
    "\n",
    "path = \"/home/gbtdata\" # root path to the data. If the data has been archived, this would be different.\n",
    "project = \"AGMVA21B_164\"\n",
    "session = \"03\"\n",
    "\n",
    "oofa = oof_analysis.OOFAnalysis(path, project, session)\n",
    "\n",
    "scan_dict = {159: 1.094,\n",
    "             160: 1.336,\n",
    "             161: 0.913,\n",
    "             162: 0.9\n",
    "             }\n",
    "\n",
    "for scan,ta in scan_dict.items():\n",
    "    rms = oofa.compute_surface_rms(scan, ta)\n",
    "    try:\n",
    "        scan_dict[scan] = [rms[\"object\"], rms[\"mjd\"], rms[\"El\"], ta, rms[\"tau0\"][0], rms[\"rms\"].value]\n",
    "    except AttributeError:\n",
    "        scan_dict[scan] = [rms[\"object\"], rms[\"mjd\"], rms[\"El\"], ta, rms[\"tau0\"][0], \"--\"]\n",
    "    \n",
    "scan_dict\n",
    "for s in scan_dict:\n",
    "    print(f\"{s} {scan_dict[s]}\")"
   ]
  },
  {
   "cell_type": "code",
   "execution_count": 29,
   "id": "c2a1454e",
   "metadata": {},
   "outputs": [
    {
     "name": "stderr",
     "output_type": "stream",
     "text": [
      "/home/sandboxes/psalas/PTCS/AutoOOF/oof_au/ruze.py:20: RuntimeWarning: divide by zero encountered in log\n",
      "  return np.sqrt(-np.log(eta_a/eta_0))/(4*np.pi)*lmbd\n"
     ]
    },
    {
     "name": "stdout",
     "output_type": "stream",
     "text": [
      "175 ['K3-50A', 59861.1193287037, 57.3752558509376, 1.573, 0.0857, '--']\n",
      "178 ['K3-50A', 59861.12074074074, 56.9282904909445, 1.475, 0.0857, '--']\n"
     ]
    },
    {
     "name": "stderr",
     "output_type": "stream",
     "text": [
      "/home/sandboxes/psalas/PTCS/AutoOOF/oof_au/ruze.py:20: RuntimeWarning: divide by zero encountered in log\n",
      "  return np.sqrt(-np.log(eta_a/eta_0))/(4*np.pi)*lmbd\n"
     ]
    }
   ],
   "source": [
    "# User defined variables.\n",
    "\n",
    "path = \"/home/gbtdata\" # root path to the data. If the data has been archived, this would be different.\n",
    "project = \"AGMVA21B_164\"\n",
    "session = \"03\"\n",
    "\n",
    "oofa = oof_analysis.OOFAnalysis(path, project, session)\n",
    "\n",
    "scan_dict = {175: 1.573,\n",
    "             178: 1.475\n",
    "             }\n",
    "\n",
    "for scan,ta in scan_dict.items():\n",
    "    rms = oofa.compute_surface_rms(scan, ta)\n",
    "    try:\n",
    "        scan_dict[scan] = [rms[\"object\"], rms[\"mjd\"], rms[\"El\"], ta, rms[\"tau0\"][0], rms[\"rms\"].value]\n",
    "    except AttributeError:\n",
    "        scan_dict[scan] = [rms[\"object\"], rms[\"mjd\"], rms[\"El\"], ta, rms[\"tau0\"][0], \"--\"]\n",
    "    \n",
    "scan_dict\n",
    "for s in scan_dict:\n",
    "    print(f\"{s} {scan_dict[s]}\")"
   ]
  },
  {
   "cell_type": "code",
   "execution_count": 30,
   "id": "4ebb7cf5",
   "metadata": {},
   "outputs": [
    {
     "name": "stdout",
     "output_type": "stream",
     "text": [
      "192 ['2202+4216', 59861.18818287037, 63.3838050760175, 1.571, 0.0884, 451.46263127096074]\n",
      "193 ['2202+4216', 59861.18863425926, 63.2637072793817, 1.979, 0.0884, 431.42518993905526]\n",
      "194 ['2202+4216', 59861.189097222225, 63.1405410013354, 2.852, 0.0884, 397.6576432327154]\n",
      "195 ['2202+4216', 59861.18954861111, 63.0204626114004, 2.865, 0.0885, 397.1984532385961]\n"
     ]
    }
   ],
   "source": [
    "# User defined variables.\n",
    "\n",
    "path = \"/home/gbtdata\" # root path to the data. If the data has been archived, this would be different.\n",
    "project = \"AGMVA21B_164\"\n",
    "session = \"03\"\n",
    "\n",
    "oofa = oof_analysis.OOFAnalysis(path, project, session)\n",
    "\n",
    "scan_dict = {192: 1.571,\n",
    "             193: 1.979,\n",
    "             194: 2.852,\n",
    "             195: 2.865,\n",
    "             \n",
    "             }\n",
    "\n",
    "for scan,ta in scan_dict.items():\n",
    "    rms = oofa.compute_surface_rms(scan, ta, source=\"2202+4216\")\n",
    "    try:\n",
    "        scan_dict[scan] = [rms[\"object\"], rms[\"mjd\"], rms[\"El\"], ta, rms[\"tau0\"][0], rms[\"rms\"].value]\n",
    "    except AttributeError:\n",
    "        scan_dict[scan] = [rms[\"object\"], rms[\"mjd\"], rms[\"El\"], ta, rms[\"tau0\"][0], \"--\"]\n",
    "    \n",
    "scan_dict\n",
    "for s in scan_dict:\n",
    "    print(f\"{s} {scan_dict[s]}\")"
   ]
  },
  {
   "cell_type": "code",
   "execution_count": 31,
   "id": "ab3a9054",
   "metadata": {},
   "outputs": [
    {
     "name": "stdout",
     "output_type": "stream",
     "text": [
      "218 ['2202+4216', 59861.27148148148, 41.6612459973781, 1.284, 0.0943, 464.733067301427]\n",
      "221 ['2202+4216', 59861.27284722222, 41.3160647262927, 0.8, 0.0942, 502.1456637040244]\n",
      "222 ['2202+4216', 59861.273356481484, 41.1436422010381, 0.956, 0.0941, 488.3444133741845]\n"
     ]
    }
   ],
   "source": [
    "# User defined variables.\n",
    "\n",
    "path = \"/home/gbtdata\" # root path to the data. If the data has been archived, this would be different.\n",
    "project = \"AGMVA21B_164\"\n",
    "session = \"03\"\n",
    "\n",
    "oofa = oof_analysis.OOFAnalysis(path, project, session)\n",
    "\n",
    "scan_dict = {218: 1.284,\n",
    "             221: 0.8,\n",
    "             222: 0.956\n",
    "             }\n",
    "\n",
    "for scan,ta in scan_dict.items():\n",
    "    rms = oofa.compute_surface_rms(scan, ta, source=\"2202+4216\")\n",
    "    try:\n",
    "        scan_dict[scan] = [rms[\"object\"], rms[\"mjd\"], rms[\"El\"], ta, rms[\"tau0\"][0], rms[\"rms\"].value]\n",
    "    except AttributeError:\n",
    "        scan_dict[scan] = [rms[\"object\"], rms[\"mjd\"], rms[\"El\"], ta, rms[\"tau0\"][0], \"--\"]\n",
    "    \n",
    "scan_dict\n",
    "for s in scan_dict:\n",
    "    print(f\"{s} {scan_dict[s]}\")"
   ]
  },
  {
   "cell_type": "code",
   "execution_count": null,
   "id": "b8b72344",
   "metadata": {},
   "outputs": [],
   "source": []
  }
 ],
 "metadata": {
  "kernelspec": {
   "display_name": "Python 3 (ipykernel)",
   "language": "python",
   "name": "python3"
  },
  "language_info": {
   "codemirror_mode": {
    "name": "ipython",
    "version": 3
   },
   "file_extension": ".py",
   "mimetype": "text/x-python",
   "name": "python",
   "nbconvert_exporter": "python",
   "pygments_lexer": "ipython3",
   "version": "3.7.11"
  }
 },
 "nbformat": 4,
 "nbformat_minor": 5
}
